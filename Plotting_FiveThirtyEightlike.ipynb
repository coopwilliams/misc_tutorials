{
  "nbformat": 4,
  "nbformat_minor": 0,
  "metadata": {
    "colab": {
      "name": "Plotting_FiveThirtyEightlike",
      "version": "0.3.2",
      "provenance": [],
      "collapsed_sections": [],
      "include_colab_link": true
    },
    "kernelspec": {
      "name": "python3",
      "display_name": "Python 3"
    }
  },
  "cells": [
    {
      "cell_type": "markdown",
      "metadata": {
        "id": "view-in-github",
        "colab_type": "text"
      },
      "source": [
        "<a href=\"https://colab.research.google.com/github/strangelycutlemon/misc_tutorials/blob/master/Plotting_FiveThirtyEightlike.ipynb\" target=\"_parent\"><img src=\"https://colab.research.google.com/assets/colab-badge.svg\" alt=\"Open In Colab\"/></a>"
      ]
    },
    {
      "cell_type": "code",
      "metadata": {
        "id": "_CignvicT647",
        "colab_type": "code",
        "colab": {}
      },
      "source": [
        "%matplotlib inline\n",
        "import matplotlib.pyplot as plt\n",
        "import numpy as np\n",
        "import pandas as pd\n",
        "import seaborn as sns"
      ],
      "execution_count": 0,
      "outputs": []
    },
    {
      "cell_type": "code",
      "metadata": {
        "id": "qtZQAZemUe_i",
        "colab_type": "code",
        "colab": {
          "base_uri": "https://localhost:8080/",
          "height": 202
        },
        "outputId": "3d9335e5-82d7-4a0a-d36f-4ec99cd8e8ab"
      },
      "source": [
        "df = pd.read_csv('https://raw.githubusercontent.com/fivethirtyeight/data/master/daily-show-guests/daily_show_guests.csv')\n",
        "\n",
        "df.head()"
      ],
      "execution_count": 2,
      "outputs": [
        {
          "output_type": "execute_result",
          "data": {
            "text/html": [
              "<div>\n",
              "<style scoped>\n",
              "    .dataframe tbody tr th:only-of-type {\n",
              "        vertical-align: middle;\n",
              "    }\n",
              "\n",
              "    .dataframe tbody tr th {\n",
              "        vertical-align: top;\n",
              "    }\n",
              "\n",
              "    .dataframe thead th {\n",
              "        text-align: right;\n",
              "    }\n",
              "</style>\n",
              "<table border=\"1\" class=\"dataframe\">\n",
              "  <thead>\n",
              "    <tr style=\"text-align: right;\">\n",
              "      <th></th>\n",
              "      <th>YEAR</th>\n",
              "      <th>GoogleKnowlege_Occupation</th>\n",
              "      <th>Show</th>\n",
              "      <th>Group</th>\n",
              "      <th>Raw_Guest_List</th>\n",
              "    </tr>\n",
              "  </thead>\n",
              "  <tbody>\n",
              "    <tr>\n",
              "      <th>0</th>\n",
              "      <td>1999</td>\n",
              "      <td>actor</td>\n",
              "      <td>1/11/99</td>\n",
              "      <td>Acting</td>\n",
              "      <td>Michael J. Fox</td>\n",
              "    </tr>\n",
              "    <tr>\n",
              "      <th>1</th>\n",
              "      <td>1999</td>\n",
              "      <td>Comedian</td>\n",
              "      <td>1/12/99</td>\n",
              "      <td>Comedy</td>\n",
              "      <td>Sandra Bernhard</td>\n",
              "    </tr>\n",
              "    <tr>\n",
              "      <th>2</th>\n",
              "      <td>1999</td>\n",
              "      <td>television actress</td>\n",
              "      <td>1/13/99</td>\n",
              "      <td>Acting</td>\n",
              "      <td>Tracey Ullman</td>\n",
              "    </tr>\n",
              "    <tr>\n",
              "      <th>3</th>\n",
              "      <td>1999</td>\n",
              "      <td>film actress</td>\n",
              "      <td>1/14/99</td>\n",
              "      <td>Acting</td>\n",
              "      <td>Gillian Anderson</td>\n",
              "    </tr>\n",
              "    <tr>\n",
              "      <th>4</th>\n",
              "      <td>1999</td>\n",
              "      <td>actor</td>\n",
              "      <td>1/18/99</td>\n",
              "      <td>Acting</td>\n",
              "      <td>David Alan Grier</td>\n",
              "    </tr>\n",
              "  </tbody>\n",
              "</table>\n",
              "</div>"
            ],
            "text/plain": [
              "   YEAR GoogleKnowlege_Occupation     Show   Group    Raw_Guest_List\n",
              "0  1999                     actor  1/11/99  Acting    Michael J. Fox\n",
              "1  1999                  Comedian  1/12/99  Comedy   Sandra Bernhard\n",
              "2  1999        television actress  1/13/99  Acting     Tracey Ullman\n",
              "3  1999              film actress  1/14/99  Acting  Gillian Anderson\n",
              "4  1999                     actor  1/18/99  Acting  David Alan Grier"
            ]
          },
          "metadata": {
            "tags": []
          },
          "execution_count": 2
        }
      ]
    },
    {
      "cell_type": "code",
      "metadata": {
        "id": "bhOX_0hAU1fQ",
        "colab_type": "code",
        "colab": {}
      },
      "source": [
        "df.rename(columns={'YEAR': 'Year', 'Raw_Guest_List': 'Guest'}, inplace=True)"
      ],
      "execution_count": 0,
      "outputs": []
    },
    {
      "cell_type": "code",
      "metadata": {
        "id": "huyWRS1zUvXU",
        "colab_type": "code",
        "colab": {}
      },
      "source": [
        "def get_occupation(group):\n",
        "  if group in ['Acting', 'Comedy', 'Musician']:\n",
        "    return 'Acting, Comedy, & Music'\n",
        "  elif group in ['Media', 'media']:\n",
        "    return 'Media'\n",
        "  elif group in ['Government', 'Politician', 'Political Aide']:\n",
        "    return 'Government & Politics'\n",
        "  else:\n",
        "    return 'Other'\n",
        "  \n",
        "df['Occupation'] = df['Group'].apply(get_occupation)"
      ],
      "execution_count": 0,
      "outputs": []
    },
    {
      "cell_type": "code",
      "metadata": {
        "id": "8dz3IQjyW6o1",
        "colab_type": "code",
        "colab": {
          "base_uri": "https://localhost:8080/",
          "height": 202
        },
        "outputId": "75ba27fc-51b5-4f64-bd2b-f35baf75a121"
      },
      "source": [
        "df.head()"
      ],
      "execution_count": 5,
      "outputs": [
        {
          "output_type": "execute_result",
          "data": {
            "text/html": [
              "<div>\n",
              "<style scoped>\n",
              "    .dataframe tbody tr th:only-of-type {\n",
              "        vertical-align: middle;\n",
              "    }\n",
              "\n",
              "    .dataframe tbody tr th {\n",
              "        vertical-align: top;\n",
              "    }\n",
              "\n",
              "    .dataframe thead th {\n",
              "        text-align: right;\n",
              "    }\n",
              "</style>\n",
              "<table border=\"1\" class=\"dataframe\">\n",
              "  <thead>\n",
              "    <tr style=\"text-align: right;\">\n",
              "      <th></th>\n",
              "      <th>Year</th>\n",
              "      <th>GoogleKnowlege_Occupation</th>\n",
              "      <th>Show</th>\n",
              "      <th>Group</th>\n",
              "      <th>Guest</th>\n",
              "      <th>Occupation</th>\n",
              "    </tr>\n",
              "  </thead>\n",
              "  <tbody>\n",
              "    <tr>\n",
              "      <th>0</th>\n",
              "      <td>1999</td>\n",
              "      <td>actor</td>\n",
              "      <td>1/11/99</td>\n",
              "      <td>Acting</td>\n",
              "      <td>Michael J. Fox</td>\n",
              "      <td>Acting, Comedy, &amp; Music</td>\n",
              "    </tr>\n",
              "    <tr>\n",
              "      <th>1</th>\n",
              "      <td>1999</td>\n",
              "      <td>Comedian</td>\n",
              "      <td>1/12/99</td>\n",
              "      <td>Comedy</td>\n",
              "      <td>Sandra Bernhard</td>\n",
              "      <td>Acting, Comedy, &amp; Music</td>\n",
              "    </tr>\n",
              "    <tr>\n",
              "      <th>2</th>\n",
              "      <td>1999</td>\n",
              "      <td>television actress</td>\n",
              "      <td>1/13/99</td>\n",
              "      <td>Acting</td>\n",
              "      <td>Tracey Ullman</td>\n",
              "      <td>Acting, Comedy, &amp; Music</td>\n",
              "    </tr>\n",
              "    <tr>\n",
              "      <th>3</th>\n",
              "      <td>1999</td>\n",
              "      <td>film actress</td>\n",
              "      <td>1/14/99</td>\n",
              "      <td>Acting</td>\n",
              "      <td>Gillian Anderson</td>\n",
              "      <td>Acting, Comedy, &amp; Music</td>\n",
              "    </tr>\n",
              "    <tr>\n",
              "      <th>4</th>\n",
              "      <td>1999</td>\n",
              "      <td>actor</td>\n",
              "      <td>1/18/99</td>\n",
              "      <td>Acting</td>\n",
              "      <td>David Alan Grier</td>\n",
              "      <td>Acting, Comedy, &amp; Music</td>\n",
              "    </tr>\n",
              "  </tbody>\n",
              "</table>\n",
              "</div>"
            ],
            "text/plain": [
              "   Year GoogleKnowlege_Occupation  ...             Guest               Occupation\n",
              "0  1999                     actor  ...    Michael J. Fox  Acting, Comedy, & Music\n",
              "1  1999                  Comedian  ...   Sandra Bernhard  Acting, Comedy, & Music\n",
              "2  1999        television actress  ...     Tracey Ullman  Acting, Comedy, & Music\n",
              "3  1999              film actress  ...  Gillian Anderson  Acting, Comedy, & Music\n",
              "4  1999                     actor  ...  David Alan Grier  Acting, Comedy, & Music\n",
              "\n",
              "[5 rows x 6 columns]"
            ]
          },
          "metadata": {
            "tags": []
          },
          "execution_count": 5
        }
      ]
    },
    {
      "cell_type": "code",
      "metadata": {
        "id": "wCMyhvYMW8t-",
        "colab_type": "code",
        "colab": {}
      },
      "source": [
        "# crosstab year with occupation, percentage values instead of decimals\n",
        "# normalize='index' gives proportions based on rows, not cols\n",
        "ct = pd.crosstab(df.Year, df.Occupation, normalize='index')*100"
      ],
      "execution_count": 0,
      "outputs": []
    },
    {
      "cell_type": "code",
      "metadata": {
        "id": "l4zN8pquXWN6",
        "colab_type": "code",
        "colab": {
          "base_uri": "https://localhost:8080/",
          "height": 601
        },
        "outputId": "4a85c4b3-9c37-4e19-836b-ece47a1603f6"
      },
      "source": [
        "ct"
      ],
      "execution_count": 7,
      "outputs": [
        {
          "output_type": "execute_result",
          "data": {
            "text/html": [
              "<div>\n",
              "<style scoped>\n",
              "    .dataframe tbody tr th:only-of-type {\n",
              "        vertical-align: middle;\n",
              "    }\n",
              "\n",
              "    .dataframe tbody tr th {\n",
              "        vertical-align: top;\n",
              "    }\n",
              "\n",
              "    .dataframe thead th {\n",
              "        text-align: right;\n",
              "    }\n",
              "</style>\n",
              "<table border=\"1\" class=\"dataframe\">\n",
              "  <thead>\n",
              "    <tr style=\"text-align: right;\">\n",
              "      <th>Occupation</th>\n",
              "      <th>Acting, Comedy, &amp; Music</th>\n",
              "      <th>Government &amp; Politics</th>\n",
              "      <th>Media</th>\n",
              "      <th>Other</th>\n",
              "    </tr>\n",
              "    <tr>\n",
              "      <th>Year</th>\n",
              "      <th></th>\n",
              "      <th></th>\n",
              "      <th></th>\n",
              "      <th></th>\n",
              "    </tr>\n",
              "  </thead>\n",
              "  <tbody>\n",
              "    <tr>\n",
              "      <th>1999</th>\n",
              "      <td>90.361446</td>\n",
              "      <td>1.204819</td>\n",
              "      <td>6.626506</td>\n",
              "      <td>1.807229</td>\n",
              "    </tr>\n",
              "    <tr>\n",
              "      <th>2000</th>\n",
              "      <td>73.964497</td>\n",
              "      <td>8.284024</td>\n",
              "      <td>12.426036</td>\n",
              "      <td>5.325444</td>\n",
              "    </tr>\n",
              "    <tr>\n",
              "      <th>2001</th>\n",
              "      <td>72.611465</td>\n",
              "      <td>3.821656</td>\n",
              "      <td>19.745223</td>\n",
              "      <td>3.821656</td>\n",
              "    </tr>\n",
              "    <tr>\n",
              "      <th>2002</th>\n",
              "      <td>62.264151</td>\n",
              "      <td>6.918239</td>\n",
              "      <td>26.415094</td>\n",
              "      <td>4.402516</td>\n",
              "    </tr>\n",
              "    <tr>\n",
              "      <th>2003</th>\n",
              "      <td>56.024096</td>\n",
              "      <td>10.240964</td>\n",
              "      <td>24.698795</td>\n",
              "      <td>9.036145</td>\n",
              "    </tr>\n",
              "    <tr>\n",
              "      <th>2004</th>\n",
              "      <td>38.414634</td>\n",
              "      <td>22.560976</td>\n",
              "      <td>27.439024</td>\n",
              "      <td>11.585366</td>\n",
              "    </tr>\n",
              "    <tr>\n",
              "      <th>2005</th>\n",
              "      <td>37.037037</td>\n",
              "      <td>16.049383</td>\n",
              "      <td>33.333333</td>\n",
              "      <td>13.580247</td>\n",
              "    </tr>\n",
              "    <tr>\n",
              "      <th>2006</th>\n",
              "      <td>36.024845</td>\n",
              "      <td>19.254658</td>\n",
              "      <td>29.192547</td>\n",
              "      <td>15.527950</td>\n",
              "    </tr>\n",
              "    <tr>\n",
              "      <th>2007</th>\n",
              "      <td>25.531915</td>\n",
              "      <td>17.021277</td>\n",
              "      <td>33.333333</td>\n",
              "      <td>24.113475</td>\n",
              "    </tr>\n",
              "    <tr>\n",
              "      <th>2008</th>\n",
              "      <td>20.731707</td>\n",
              "      <td>20.121951</td>\n",
              "      <td>46.951220</td>\n",
              "      <td>12.195122</td>\n",
              "    </tr>\n",
              "    <tr>\n",
              "      <th>2009</th>\n",
              "      <td>20.858896</td>\n",
              "      <td>20.858896</td>\n",
              "      <td>36.196319</td>\n",
              "      <td>22.085890</td>\n",
              "    </tr>\n",
              "    <tr>\n",
              "      <th>2010</th>\n",
              "      <td>35.151515</td>\n",
              "      <td>18.181818</td>\n",
              "      <td>30.303030</td>\n",
              "      <td>16.363636</td>\n",
              "    </tr>\n",
              "    <tr>\n",
              "      <th>2011</th>\n",
              "      <td>33.742331</td>\n",
              "      <td>16.564417</td>\n",
              "      <td>31.288344</td>\n",
              "      <td>18.404908</td>\n",
              "    </tr>\n",
              "    <tr>\n",
              "      <th>2012</th>\n",
              "      <td>26.829268</td>\n",
              "      <td>20.121951</td>\n",
              "      <td>31.707317</td>\n",
              "      <td>21.341463</td>\n",
              "    </tr>\n",
              "    <tr>\n",
              "      <th>2013</th>\n",
              "      <td>42.771084</td>\n",
              "      <td>12.650602</td>\n",
              "      <td>30.722892</td>\n",
              "      <td>13.855422</td>\n",
              "    </tr>\n",
              "    <tr>\n",
              "      <th>2014</th>\n",
              "      <td>39.263804</td>\n",
              "      <td>12.883436</td>\n",
              "      <td>32.515337</td>\n",
              "      <td>15.337423</td>\n",
              "    </tr>\n",
              "    <tr>\n",
              "      <th>2015</th>\n",
              "      <td>45.000000</td>\n",
              "      <td>17.000000</td>\n",
              "      <td>24.000000</td>\n",
              "      <td>14.000000</td>\n",
              "    </tr>\n",
              "  </tbody>\n",
              "</table>\n",
              "</div>"
            ],
            "text/plain": [
              "Occupation  Acting, Comedy, & Music  ...      Other\n",
              "Year                                 ...           \n",
              "1999                      90.361446  ...   1.807229\n",
              "2000                      73.964497  ...   5.325444\n",
              "2001                      72.611465  ...   3.821656\n",
              "2002                      62.264151  ...   4.402516\n",
              "2003                      56.024096  ...   9.036145\n",
              "2004                      38.414634  ...  11.585366\n",
              "2005                      37.037037  ...  13.580247\n",
              "2006                      36.024845  ...  15.527950\n",
              "2007                      25.531915  ...  24.113475\n",
              "2008                      20.731707  ...  12.195122\n",
              "2009                      20.858896  ...  22.085890\n",
              "2010                      35.151515  ...  16.363636\n",
              "2011                      33.742331  ...  18.404908\n",
              "2012                      26.829268  ...  21.341463\n",
              "2013                      42.771084  ...  13.855422\n",
              "2014                      39.263804  ...  15.337423\n",
              "2015                      45.000000  ...  14.000000\n",
              "\n",
              "[17 rows x 4 columns]"
            ]
          },
          "metadata": {
            "tags": []
          },
          "execution_count": 7
        }
      ]
    },
    {
      "cell_type": "code",
      "metadata": {
        "id": "lTfuwWJyXYxL",
        "colab_type": "code",
        "colab": {}
      },
      "source": [
        "ct = ct.drop(columns=['Other'])"
      ],
      "execution_count": 0,
      "outputs": []
    },
    {
      "cell_type": "code",
      "metadata": {
        "id": "qaW5iu7icNNr",
        "colab_type": "code",
        "colab": {}
      },
      "source": [
        "# list of all years in the table\n",
        "year = ct.index.tolist()"
      ],
      "execution_count": 0,
      "outputs": []
    },
    {
      "cell_type": "code",
      "metadata": {
        "id": "kYkqx48IcXKW",
        "colab_type": "code",
        "colab": {
          "base_uri": "https://localhost:8080/",
          "height": 603
        },
        "outputId": "d0168113-da43-4411-ac45-487ed533ca4a"
      },
      "source": [
        "plt.style.use('fivethirtyeight')\n",
        "\n",
        "# set size of the plot\n",
        "fig, ax = plt.subplots(figsize=(10,8))\n",
        "\n",
        "# plot each occupation category\n",
        "ax1 = sns.lineplot(x=year, y=ct['Acting, Comedy, & Music'].tolist(), color='#0F95D7', lw=2.5)\n",
        "ax2 = sns.lineplot(x=year, y=ct['Government & Politics'].tolist(), color='#FF2700', lw=2.5)\n",
        "ax3 = sns.lineplot(x=year, y=ct['Media'].tolist(), color='#810F7C', lw=2.5)\n",
        "\n",
        "# y-axis\n",
        "plt.ylim(-5,110)\n",
        "\n",
        "# Bold horizontal axis\n",
        "ax1.axhline(y=0, color='#414141', linewidth=1.5, alpha=.5)\n",
        "\n",
        "# Let's set new ticks and labels\n",
        "ax.set_yticks([0, 25, 50, 75, 100])\n",
        "ax.set_yticklabels(labels=['0', '25', '50', '75', '100%'], fontsize=14, color='#414141')\n",
        "\n",
        "ax.set_xticks([2000, 2004, 2008, 2012])\n",
        "ax.set_xticklabels(['2000', '2004', '2008', '2012'], fontsize=14, color='#414141')\n",
        "\n",
        "# setting title with custom position\n",
        "ax.text(x=1996.7, y=118, s='Who got to be on the Daily Show?', fontsize=18.5, fontweight='semibold', color='#414141')\n",
        "ax.text(x=1996.7, y=112, s='Occupation of guests, by year', fontsize=16.5, color='#313131')\n",
        "\n",
        "# labeling the lines\n",
        "ax.text(x=2000.5, y=81, s='Acting, Comedy, & Music', fontsize=13, fontweight='semibold', color='#0F95D7')\n",
        "ax.text(x=2008.5, y=6, s='Government & Politics', fontsize=13, fontweight='semibold', color='#FF2700')\n",
        "ax.text(x=2007.1, y=51, s='Media', fontsize=13, fontweight='semibold', color='#810F7C')\n",
        "\n",
        "# Signature line at bottom\n",
        "ax1.text(x = 1996.7, y = -18.5,\n",
        "         s = ' Cooper Williams                                                                                           Source: FiveThirtyEight',\n",
        "         fontsize=14, color = '#f0f0f0', backgroundcolor='#414141');"
      ],
      "execution_count": 28,
      "outputs": [
        {
          "output_type": "display_data",
          "data": {
            "image/png": "[encoded data removed]",
            "text/plain": [
              "<Figure size 720x576 with 1 Axes>"
            ]
          },
          "metadata": {
            "tags": []
          }
        }
      ]
    },
    {
      "cell_type": "code",
      "metadata": {
        "id": "qUlZ_2a6deJV",
        "colab_type": "code",
        "colab": {}
      },
      "source": [
        ""
      ],
      "execution_count": 0,
      "outputs": []
    },
    {
      "cell_type": "code",
      "metadata": {
        "id": "uzAmcGdcdXca",
        "colab_type": "code",
        "colab": {}
      },
      "source": [
        ""
      ],
      "execution_count": 0,
      "outputs": []
    }
  ]
}